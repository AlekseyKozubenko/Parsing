{
  "nbformat": 4,
  "nbformat_minor": 0,
  "metadata": {
    "colab": {
      "provenance": [],
      "collapsed_sections": []
    },
    "kernelspec": {
      "name": "python3",
      "display_name": "Python 3"
    },
    "language_info": {
      "name": "python"
    }
  },
  "cells": [
    {
      "cell_type": "markdown",
      "source": [
        "Козубенко, ДЗ к уроку 4\n",
        "\n",
        "Урок 4. Система управления базами данных MongoDB в Python\n",
        "\n",
        "\n",
        "1.  Развернуть у себя на компьютере/виртуальной машине/хостинге MongoDB и реализовать функцию, которая будет добавлять только новые вакансии/продукты в вашу базу.\n",
        "\n",
        "2. *Написать функцию, которая производит поиск и выводит на экран вакансии с заработной платой больше введённой суммы (необходимо анализировать оба поля зарплаты).\n",
        "\n",
        "3. *Любая аналитика. Например matching ваканский с разных площадок\n"
      ],
      "metadata": {
        "id": "nea2SH5dtu4Z"
      }
    },
    {
      "cell_type": "code",
      "execution_count": 237,
      "metadata": {
        "id": "3OM1I19ejBb-"
      },
      "outputs": [],
      "source": [
        "# Собираем данные с сайта о вакансих (ДЗ к уроку 3)"
      ]
    },
    {
      "cell_type": "code",
      "source": [
        "from bs4 import BeautifulSoup as bs\n",
        "import requests\n",
        "import pandas as pd\n",
        "from pprint import pprint\n",
        "from time import sleep"
      ],
      "metadata": {
        "id": "03G40yFvu_x8"
      },
      "execution_count": 238,
      "outputs": []
    },
    {
      "cell_type": "code",
      "source": [
        "def salary_clean(salary_text):\n",
        "  min_sal = None\n",
        "  max_sal = None\n",
        "  curr_sal = None\n",
        "  salary_text_list = salary_text.replace('\\u202f', '').split()\n",
        "  for i in range(len(salary_text_list)):\n",
        "    if salary_text_list[i] == 'от':\n",
        "      min_sal = int(salary_text_list[i + 1])\n",
        "    elif salary_text_list[i] == 'до':\n",
        "      max_sal = int(salary_text_list[i + 1])\n",
        "    elif salary_text_list[i] == '–':\n",
        "      min_sal = int(salary_text_list[i - 1])\n",
        "      max_sal = int(salary_text_list[i + 1])\n",
        "  curr_sal = salary_text_list[-1]\n",
        "  return [min_sal, max_sal, curr_sal]"
      ],
      "metadata": {
        "id": "A-tzJyx2vDmR"
      },
      "execution_count": 239,
      "outputs": []
    },
    {
      "cell_type": "code",
      "source": [
        "url = 'https://vladivostok.hh.ru/search/vacancy'\n",
        "headers = {\n",
        "    'User-Agent':\t'Mozilla/5.0 (Windows NT 10.0; Win64; x64) AppleWebKit/537.36 (KHTML, like Gecko) Chrome/104.0.0.0 Safari/537.36',\n",
        "}\n",
        "params = {\n",
        "    'text': 'Водитель',\n",
        "    'from': 'suggest_post',\n",
        "    'salary': '',\n",
        "    'clusters': 'true',\n",
        "    'area': '22',\n",
        "    'no_magic': 'true',\n",
        "    'ored_clusters': 'true',\n",
        "    'enable_snippets': 'true'\n",
        "}"
      ],
      "metadata": {
        "id": "LVysAPxUvFhc"
      },
      "execution_count": 240,
      "outputs": []
    },
    {
      "cell_type": "code",
      "source": [
        "# Определяю кол-во страниц для парсинга\n",
        "response = requests.get(url=url, headers=headers, params=params)\n",
        "soup = bs(response.text, 'html.parser')\n",
        "index_last_page_t = soup.find('a', {'data-qa': 'pager-next'}).previous_sibling.text\n",
        "index_last_page = int(index_last_page_t) - 1\n",
        "index_last_page"
      ],
      "metadata": {
        "colab": {
          "base_uri": "https://localhost:8080/"
        },
        "id": "Ipsogry7vH-j",
        "outputId": "b9895023-11bc-4b38-95a4-972e36926328"
      },
      "execution_count": 241,
      "outputs": [
        {
          "output_type": "execute_result",
          "data": {
            "text/plain": [
              "5"
            ]
          },
          "metadata": {},
          "execution_count": 241
        }
      ]
    },
    {
      "cell_type": "code",
      "source": [
        "url = 'https://vladivostok.hh.ru/search/vacancy'\n",
        "headers = {\n",
        "    'User-Agent':\t'Mozilla/5.0 (Windows NT 10.0; Win64; x64) AppleWebKit/537.36 (KHTML, like Gecko) Chrome/104.0.0.0 Safari/537.36',\n",
        "}\n",
        "page_index = ''\n",
        "params = {\n",
        "    'text': 'Водитель',\n",
        "    'from': 'suggest_post',\n",
        "    'salary': '',\n",
        "    'clusters': 'true',\n",
        "    'area': '22',\n",
        "    'no_magic': 'true',\n",
        "    'ored_clusters': 'true',\n",
        "    'enable_snippets': 'true',\n",
        "    'page': page_index,\n",
        "    'hhtmFrom': 'vacancy_search_list'\n",
        "}"
      ],
      "metadata": {
        "id": "458bO67svKZ7"
      },
      "execution_count": 242,
      "outputs": []
    },
    {
      "cell_type": "code",
      "source": [
        "response_text = ''"
      ],
      "metadata": {
        "id": "tj1iYpt5vNnA"
      },
      "execution_count": 243,
      "outputs": []
    },
    {
      "cell_type": "code",
      "source": [
        "# index_last_page = 2"
      ],
      "metadata": {
        "id": "G2OADOpi-q8z"
      },
      "execution_count": 244,
      "outputs": []
    },
    {
      "cell_type": "code",
      "source": [
        "i = 0\n",
        "while i <= index_last_page:\n",
        "  sleep(0.5)\n",
        "  page_index = str(i)\n",
        "  # print(page_index)\n",
        "  params = {\n",
        "    'text': 'Водитель',\n",
        "    'from': 'suggest_post',\n",
        "    'salary': '',\n",
        "    'clusters': 'true',\n",
        "    'area': '22',\n",
        "    'no_magic': 'true',\n",
        "    'ored_clusters': 'true',\n",
        "    'enable_snippets': 'true',\n",
        "    'page': page_index,\n",
        "    'hhtmFrom': 'vacancy_search_list'\n",
        "}\n",
        "  # print(params['page'])\n",
        "  response = requests.get(url=url, headers=headers, params=params)\n",
        "  if response.status_code != 200:\n",
        "    print('Parsing ended')\n",
        "    break\n",
        "  else: \n",
        "    response_text += response.text\n",
        "    i += 1"
      ],
      "metadata": {
        "id": "C4AQqnwovPzb"
      },
      "execution_count": 245,
      "outputs": []
    },
    {
      "cell_type": "code",
      "source": [
        "soup = bs(response_text, 'html.parser') "
      ],
      "metadata": {
        "id": "MkJpBVp2vTH5"
      },
      "execution_count": 246,
      "outputs": []
    },
    {
      "cell_type": "code",
      "source": [
        "jobs = soup.find_all('a', {'class': 'serp-item__title'})\n",
        "len(jobs)"
      ],
      "metadata": {
        "colab": {
          "base_uri": "https://localhost:8080/"
        },
        "id": "aPZcoUcQvVGQ",
        "outputId": "8ab3900d-647c-4566-c39d-edcada601173"
      },
      "execution_count": 247,
      "outputs": [
        {
          "output_type": "execute_result",
          "data": {
            "text/plain": [
              "105"
            ]
          },
          "metadata": {},
          "execution_count": 247
        }
      ]
    },
    {
      "cell_type": "code",
      "source": [
        "salary_list = []\n",
        "employee_list = []\n",
        "salary_data = soup.find_all('div', {'class': 'vacancy-serp-item-body__main-info'})\n",
        "for s in salary_data:\n",
        "  sal = s.find('span', {'data-qa': 'vacancy-serp__vacancy-compensation'})\n",
        "  # print(sal.text)\n",
        "  try:\n",
        "    salary_list.append(sal.text)\n",
        "  except AttributeError:\n",
        "    salary_list.append(None)\n",
        "  employee = s.find('a', {'data-qa': 'vacancy-serp__vacancy-employer'})\n",
        "  employee_list.append(employee.text.replace('\\xa0', ' '))\n",
        "# salary_list\n",
        "# employee_list"
      ],
      "metadata": {
        "id": "bUpT3ZfJvXCM"
      },
      "execution_count": 248,
      "outputs": []
    },
    {
      "cell_type": "code",
      "source": [
        "jobs_data = {\n",
        "    'job_title': [],\n",
        "    'employee': [],\n",
        "    'salary_min': [],\n",
        "    'salary_max': [],\n",
        "    'salary_currency': [],\n",
        "    'job_link': [],\n",
        "    'source': []\n",
        "}"
      ],
      "metadata": {
        "id": "OGy_u1wzvdj6"
      },
      "execution_count": 249,
      "outputs": []
    },
    {
      "cell_type": "code",
      "source": [
        "i = 0\n",
        "for job in jobs:\n",
        "  jobs_data['job_title'].append(job.text)\n",
        "  jobs_data['job_link'].append(job['href'])\n",
        "  jobs_data['source'].append(url)\n",
        "  try:\n",
        "    jobs_data['salary_min'].append(salary_clean(salary_list[i])[0])\n",
        "  except AttributeError:\n",
        "    jobs_data['salary_min'].append(None)\n",
        "  try:  \n",
        "    jobs_data['salary_max'].append(salary_clean(salary_list[i])[1])\n",
        "  except AttributeError:\n",
        "    jobs_data['salary_max'].append(None)\n",
        "  try:\n",
        "    jobs_data['salary_currency'].append(salary_clean(salary_list[i])[2])\n",
        "  except AttributeError:\n",
        "    jobs_data['salary_currency'].append(None)\n",
        "  jobs_data['employee'].append(employee_list[i])\n",
        "  i += 1\n",
        "for title in  jobs_data:\n",
        "  print(title, len(jobs_data[title]))"
      ],
      "metadata": {
        "colab": {
          "base_uri": "https://localhost:8080/"
        },
        "id": "WqKE4wrTvf14",
        "outputId": "49d5356d-7f66-4fd7-85ff-a1838bbe5189"
      },
      "execution_count": 250,
      "outputs": [
        {
          "output_type": "stream",
          "name": "stdout",
          "text": [
            "job_title 105\n",
            "employee 105\n",
            "salary_min 105\n",
            "salary_max 105\n",
            "salary_currency 105\n",
            "job_link 105\n",
            "source 105\n"
          ]
        }
      ]
    },
    {
      "cell_type": "code",
      "source": [
        "jobs_df = pd.DataFrame(data=jobs_data)\n",
        "# jobs_df.reset_index(inplace=True)\n",
        "data_dict = jobs_df.to_dict('records')\n",
        "jobs_df.to_excel('output.xlsx')"
      ],
      "metadata": {
        "id": "BTnnCG31viwP"
      },
      "execution_count": 251,
      "outputs": []
    },
    {
      "cell_type": "code",
      "source": [
        "# data_dict"
      ],
      "metadata": {
        "id": "X6HXsIp4zFG1"
      },
      "execution_count": 252,
      "outputs": []
    },
    {
      "cell_type": "code",
      "source": [
        "!apt install mongodb > log\n",
        "!service mongodb start"
      ],
      "metadata": {
        "colab": {
          "base_uri": "https://localhost:8080/"
        },
        "id": "irjjwS6o1uSr",
        "outputId": "7e44f7f8-0bc7-476d-8aad-5c2affbf2c26"
      },
      "execution_count": 253,
      "outputs": [
        {
          "output_type": "stream",
          "name": "stdout",
          "text": [
            "\n",
            "WARNING: apt does not have a stable CLI interface. Use with caution in scripts.\n",
            "\n",
            " * Starting database mongodb\n",
            "   ...done.\n"
          ]
        }
      ]
    },
    {
      "cell_type": "code",
      "source": [
        "from pymongo import MongoClient"
      ],
      "metadata": {
        "id": "4ew1BcT12BK3"
      },
      "execution_count": 254,
      "outputs": []
    },
    {
      "cell_type": "code",
      "source": [
        "# Making a Connection with MongoClient\n",
        "client = MongoClient()\n",
        "# database\n",
        "db = client['vacancies']\n",
        "# collection\n",
        "vacancies_vladivostok_hh = db['vacancies_vladivostok']"
      ],
      "metadata": {
        "id": "nweNb54L2Ggl"
      },
      "execution_count": 255,
      "outputs": []
    },
    {
      "cell_type": "code",
      "source": [
        "# db.vacancies_vladivostok_hh.insert_many(data_dict)"
      ],
      "metadata": {
        "id": "gDjZheKb358k"
      },
      "execution_count": 256,
      "outputs": []
    },
    {
      "cell_type": "code",
      "source": [
        "for vacancy in data_dict:\n",
        "  if not len(list(db.vacancies_vladivostok_hh.find({'job_link': vacancy['job_link']}))):\n",
        "    db.vacancies_vladivostok_hh.insert_one(vacancy)\n"
      ],
      "metadata": {
        "id": "mAmgYRnC84hP"
      },
      "execution_count": 257,
      "outputs": []
    },
    {
      "cell_type": "code",
      "source": [
        "vac_s = db.vacancies_vladivostok_hh.find({})\n",
        "# for v in vac_s:\n",
        "  # pprint(v)\n",
        "len(list(vac_s))"
      ],
      "metadata": {
        "id": "yT93MHpN6IJy"
      },
      "execution_count": null,
      "outputs": []
    },
    {
      "cell_type": "code",
      "source": [
        "# db.vacancies_vladivostok_hh.drop()"
      ],
      "metadata": {
        "id": "wDBOtiaX8iDd"
      },
      "execution_count": 259,
      "outputs": []
    },
    {
      "cell_type": "code",
      "source": [
        "# функция, которая производит поиск и выводит на экран вакансии с заработной платой больше введённой суммы\n",
        "def salary_greater_then(amount):\n",
        "  result = db.vacancies_vladivostok_hh.find({'$or': [{'salary_min': {'$gt': amount}}, {'salary_max': {'$gt': amount}}]})\n",
        "  for v in result:\n",
        "    pprint(v)"
      ],
      "metadata": {
        "id": "sRBhYt3pFgdw"
      },
      "execution_count": 267,
      "outputs": []
    },
    {
      "cell_type": "code",
      "source": [
        "salary_greater_then(150_000)"
      ],
      "metadata": {
        "colab": {
          "base_uri": "https://localhost:8080/"
        },
        "id": "PBZ4CPv0GJyN",
        "outputId": "cec5a5dd-703c-49a1-a0d8-8c3a72f2d5a3"
      },
      "execution_count": 272,
      "outputs": [
        {
          "output_type": "stream",
          "name": "stdout",
          "text": [
            "{'_id': ObjectId('63276dcda8d94dffd4b976fb'),\n",
            " 'employee': 'ООО МайнингВосток',\n",
            " 'job_link': 'https://vladivostok.hh.ru/vacancy/51973259?from=vacancy_search_list&hhtmFrom=vacancy_search_list&query=%D0%92%D0%BE%D0%B4%D0%B8%D1%82%D0%B5%D0%BB%D1%8C',\n",
            " 'job_title': 'Водитель карьерного сочлененного самосвала VOLVO A35G и А60H',\n",
            " 'salary_currency': 'руб.',\n",
            " 'salary_max': 165000.0,\n",
            " 'salary_min': 150000.0,\n",
            " 'source': 'https://vladivostok.hh.ru/search/vacancy'}\n",
            "{'_id': ObjectId('63276dcda8d94dffd4b97702'),\n",
            " 'employee': 'ООО Фарес',\n",
            " 'job_link': 'https://vladivostok.hh.ru/vacancy/69006582?from=vacancy_search_list&hhtmFrom=vacancy_search_list&query=%D0%92%D0%BE%D0%B4%D0%B8%D1%82%D0%B5%D0%BB%D1%8C',\n",
            " 'job_title': 'Водитель контейнеровоза',\n",
            " 'salary_currency': 'руб.',\n",
            " 'salary_max': 200000.0,\n",
            " 'salary_min': 150000.0,\n",
            " 'source': 'https://vladivostok.hh.ru/search/vacancy'}\n",
            "{'_id': ObjectId('63276dcda8d94dffd4b97714'),\n",
            " 'employee': 'Деловые люди',\n",
            " 'job_link': 'https://vladivostok.hh.ru/vacancy/67326721?from=vacancy_search_list&hhtmFrom=vacancy_search_list&query=%D0%92%D0%BE%D0%B4%D0%B8%D1%82%D0%B5%D0%BB%D1%8C',\n",
            " 'job_title': 'Водитель с личным грузовиком (3 тонны)',\n",
            " 'salary_currency': 'руб.',\n",
            " 'salary_max': nan,\n",
            " 'salary_min': 200000.0,\n",
            " 'source': 'https://vladivostok.hh.ru/search/vacancy'}\n",
            "{'_id': ObjectId('63276dcda8d94dffd4b97716'),\n",
            " 'employee': 'ИП Константинов Владимир Владимирович',\n",
            " 'job_link': 'https://vladivostok.hh.ru/vacancy/68632436?from=vacancy_search_list&hhtmFrom=vacancy_search_list&query=%D0%92%D0%BE%D0%B4%D0%B8%D1%82%D0%B5%D0%BB%D1%8C',\n",
            " 'job_title': 'Водитель самосвала А3 (Якутия)',\n",
            " 'salary_currency': 'руб.',\n",
            " 'salary_max': 160000.0,\n",
            " 'salary_min': 140000.0,\n",
            " 'source': 'https://vladivostok.hh.ru/search/vacancy'}\n",
            "{'_id': ObjectId('63276dcda8d94dffd4b97719'),\n",
            " 'employee': 'ООО Альфа-Кар ТРАК',\n",
            " 'job_link': 'https://vladivostok.hh.ru/vacancy/69191058?from=vacancy_search_list&hhtmFrom=vacancy_search_list&query=%D0%92%D0%BE%D0%B4%D0%B8%D1%82%D0%B5%D0%BB%D1%8C',\n",
            " 'job_title': 'Водитель самосвала Категория А3',\n",
            " 'salary_currency': 'руб.',\n",
            " 'salary_max': 165000.0,\n",
            " 'salary_min': 150000.0,\n",
            " 'source': 'https://vladivostok.hh.ru/search/vacancy'}\n"
          ]
        }
      ]
    }
  ]
}