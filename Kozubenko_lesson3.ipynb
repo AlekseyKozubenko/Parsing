{
  "nbformat": 4,
  "nbformat_minor": 0,
  "metadata": {
    "colab": {
      "provenance": [],
      "collapsed_sections": []
    },
    "kernelspec": {
      "name": "python3",
      "display_name": "Python 3"
    },
    "language_info": {
      "name": "python"
    }
  },
  "cells": [
    {
      "cell_type": "markdown",
      "source": [
        "Козубенко, ДЗ к уроку 3\n",
        "\n",
        "Собрать информацию о вакансиях на вводимую должность с сайтов hh.ru и/или Superjob и/или работа.ру. Приложение должно анализировать несколько страниц сайта. Получившийся список должен содержать в себе минимум:\n",
        "Наименование вакансии.\n",
        "Предлагаемую зарплату (дополнительно: разносим в три поля: минимальная и максимальная и валюта. цифры преобразуем к цифрам).\n",
        "Ссылку на саму вакансию.\n",
        "Сайт, откуда собрана вакансия"
      ],
      "metadata": {
        "id": "5vzJWVvlo9GF"
      }
    },
    {
      "cell_type": "code",
      "execution_count": 252,
      "metadata": {
        "id": "ixm05WGdofox"
      },
      "outputs": [],
      "source": [
        "from bs4 import BeautifulSoup as bs\n",
        "import requests\n",
        "import pandas as pd\n",
        "import pprint\n",
        "from time import sleep"
      ]
    },
    {
      "cell_type": "code",
      "source": [
        "def salary_clean(salary_text):\n",
        "  min_sal = None\n",
        "  max_sal = None\n",
        "  curr_sal = None\n",
        "  salary_text_list = salary_text.replace('\\u202f', '').split()\n",
        "  for i in range(len(salary_text_list)):\n",
        "    if salary_text_list[i] == 'от':\n",
        "      min_sal = int(salary_text_list[i + 1])\n",
        "    elif salary_text_list[i] == 'до':\n",
        "      max_sal = int(salary_text_list[i + 1])\n",
        "    elif salary_text_list[i] == '–':\n",
        "      min_sal = int(salary_text_list[i - 1])\n",
        "      max_sal = int(salary_text_list[i + 1])\n",
        "  curr_sal = salary_text_list[-1]\n",
        "  return [min_sal, max_sal, curr_sal]"
      ],
      "metadata": {
        "id": "kt0UKRhnyMWv"
      },
      "execution_count": 253,
      "outputs": []
    },
    {
      "cell_type": "code",
      "source": [
        "url = 'https://vladivostok.hh.ru/search/vacancy'\n",
        "headers = {\n",
        "    'User-Agent':\t'Mozilla/5.0 (Windows NT 10.0; Win64; x64) AppleWebKit/537.36 (KHTML, like Gecko) Chrome/104.0.0.0 Safari/537.36',\n",
        "}\n",
        "params = {\n",
        "    'text': 'Водитель',\n",
        "    'from': 'suggest_post',\n",
        "    'salary': '',\n",
        "    'clusters': 'true',\n",
        "    'area': '22',\n",
        "    'no_magic': 'true',\n",
        "    'ored_clusters': 'true',\n",
        "    'enable_snippets': 'true'\n",
        "}"
      ],
      "metadata": {
        "id": "ExVH7DH6pUfh"
      },
      "execution_count": 254,
      "outputs": []
    },
    {
      "cell_type": "code",
      "source": [
        "# Определяю кол-во страниц для парсинга\n",
        "response = requests.get(url=url, headers=headers, params=params)\n",
        "soup = bs(response.text, 'html.parser')\n",
        "index_last_page_t = soup.find('a', {'data-qa': 'pager-next'}).previous_sibling.text\n",
        "index_last_page = int(index_last_page_t) - 1\n",
        "index_last_page"
      ],
      "metadata": {
        "colab": {
          "base_uri": "https://localhost:8080/"
        },
        "id": "oggbSxRG9lQi",
        "outputId": "d6388750-5288-4fc3-bd2d-fc593dfcd1a7"
      },
      "execution_count": 255,
      "outputs": [
        {
          "output_type": "execute_result",
          "data": {
            "text/plain": [
              "5"
            ]
          },
          "metadata": {},
          "execution_count": 255
        }
      ]
    },
    {
      "cell_type": "code",
      "source": [
        "url = 'https://vladivostok.hh.ru/search/vacancy'\n",
        "headers = {\n",
        "    'User-Agent':\t'Mozilla/5.0 (Windows NT 10.0; Win64; x64) AppleWebKit/537.36 (KHTML, like Gecko) Chrome/104.0.0.0 Safari/537.36',\n",
        "}\n",
        "page_index = ''\n",
        "params = {\n",
        "    'text': 'Водитель',\n",
        "    'from': 'suggest_post',\n",
        "    'salary': '',\n",
        "    'clusters': 'true',\n",
        "    'area': '22',\n",
        "    'no_magic': 'true',\n",
        "    'ored_clusters': 'true',\n",
        "    'enable_snippets': 'true',\n",
        "    'page': page_index,\n",
        "    'hhtmFrom': 'vacancy_search_list'\n",
        "}"
      ],
      "metadata": {
        "id": "R5WK1-CWw3HW"
      },
      "execution_count": 256,
      "outputs": []
    },
    {
      "cell_type": "code",
      "source": [
        "response_text = ''"
      ],
      "metadata": {
        "id": "k3_E9CgBxmU_"
      },
      "execution_count": 257,
      "outputs": []
    },
    {
      "cell_type": "code",
      "source": [
        "# index_last_page = 2"
      ],
      "metadata": {
        "id": "y3KiZEBF_k0k"
      },
      "execution_count": 258,
      "outputs": []
    },
    {
      "cell_type": "code",
      "source": [
        "i = 0\n",
        "while i <= index_last_page:\n",
        "  sleep(0.5)\n",
        "  page_index = str(i)\n",
        "  # print(page_index)\n",
        "  params = {\n",
        "    'text': 'Водитель',\n",
        "    'from': 'suggest_post',\n",
        "    'salary': '',\n",
        "    'clusters': 'true',\n",
        "    'area': '22',\n",
        "    'no_magic': 'true',\n",
        "    'ored_clusters': 'true',\n",
        "    'enable_snippets': 'true',\n",
        "    'page': page_index,\n",
        "    'hhtmFrom': 'vacancy_search_list'\n",
        "}\n",
        "  # print(params['page'])\n",
        "  response = requests.get(url=url, headers=headers, params=params)\n",
        "  if response.status_code != 200:\n",
        "    print('Parsing ended')\n",
        "    break\n",
        "  else: \n",
        "    response_text += response.text\n",
        "    i += 1"
      ],
      "metadata": {
        "id": "CXMLj2tHzOL2"
      },
      "execution_count": 259,
      "outputs": []
    },
    {
      "cell_type": "code",
      "source": [
        "soup = bs(response_text, 'html.parser') "
      ],
      "metadata": {
        "id": "nEJ4GbxcxwC4"
      },
      "execution_count": 260,
      "outputs": []
    },
    {
      "cell_type": "code",
      "source": [
        "# soup"
      ],
      "metadata": {
        "id": "ofM3HCg00-__"
      },
      "execution_count": 261,
      "outputs": []
    },
    {
      "cell_type": "code",
      "source": [
        "jobs = soup.find_all('a', {'class': 'serp-item__title'})\n",
        "len(jobs)"
      ],
      "metadata": {
        "colab": {
          "base_uri": "https://localhost:8080/"
        },
        "id": "VXdzjTJShmLU",
        "outputId": "0d8e01e2-c0cf-4227-fae6-1d040acfe217"
      },
      "execution_count": 262,
      "outputs": [
        {
          "output_type": "execute_result",
          "data": {
            "text/plain": [
              "114"
            ]
          },
          "metadata": {},
          "execution_count": 262
        }
      ]
    },
    {
      "cell_type": "code",
      "source": [
        "salary_list = []\n",
        "employee_list = []\n",
        "salary_data = soup.find_all('div', {'class': 'vacancy-serp-item-body__main-info'})\n",
        "for s in salary_data:\n",
        "  sal = s.find('span', {'data-qa': 'vacancy-serp__vacancy-compensation'})\n",
        "  # print(sal.text)\n",
        "  try:\n",
        "    salary_list.append(sal.text)\n",
        "  except AttributeError:\n",
        "    salary_list.append(None)\n",
        "  employee = s.find('a', {'data-qa': 'vacancy-serp__vacancy-employer'})\n",
        "  employee_list.append(employee.text.replace('\\xa0', ' '))\n",
        "# salary_list\n",
        "# employee_list"
      ],
      "metadata": {
        "id": "QYrzSMSXs85P"
      },
      "execution_count": 263,
      "outputs": []
    },
    {
      "cell_type": "code",
      "source": [
        "jobs_data = {\n",
        "    'job_title': [],\n",
        "    'employee': [],\n",
        "    'salary_min': [],\n",
        "    'salary_max': [],\n",
        "    'salary_currency': [],\n",
        "    'job_link': [],\n",
        "    'source': []\n",
        "}"
      ],
      "metadata": {
        "id": "meTQVaPInKea"
      },
      "execution_count": 264,
      "outputs": []
    },
    {
      "cell_type": "code",
      "source": [
        "# salary_clean(salary_list[1])[0]"
      ],
      "metadata": {
        "id": "y80sjBWlodtf"
      },
      "execution_count": 265,
      "outputs": []
    },
    {
      "cell_type": "code",
      "source": [
        "i = 0\n",
        "for job in jobs:\n",
        "  jobs_data['job_title'].append(job.text)\n",
        "  jobs_data['job_link'].append(job['href'])\n",
        "  jobs_data['source'].append(url)\n",
        "  try:\n",
        "    jobs_data['salary_min'].append(salary_clean(salary_list[i])[0])\n",
        "  except AttributeError:\n",
        "    jobs_data['salary_min'].append(None)\n",
        "  try:  \n",
        "    jobs_data['salary_max'].append(salary_clean(salary_list[i])[1])\n",
        "  except AttributeError:\n",
        "    jobs_data['salary_max'].append(None)\n",
        "  try:\n",
        "    jobs_data['salary_currency'].append(salary_clean(salary_list[i])[2])\n",
        "  except AttributeError:\n",
        "    jobs_data['salary_currency'].append(None)\n",
        "  jobs_data['employee'].append(employee_list[i])\n",
        "  i += 1\n",
        "for title in  jobs_data:\n",
        "  print(title, len(jobs_data[title]))"
      ],
      "metadata": {
        "id": "69IxR6cucmVb",
        "colab": {
          "base_uri": "https://localhost:8080/"
        },
        "outputId": "789aa92c-f7dc-411a-a9f7-deac244ed0c6"
      },
      "execution_count": 266,
      "outputs": [
        {
          "output_type": "stream",
          "name": "stdout",
          "text": [
            "job_title 114\n",
            "employee 114\n",
            "salary_min 114\n",
            "salary_max 114\n",
            "salary_currency 114\n",
            "job_link 114\n",
            "source 114\n"
          ]
        }
      ]
    },
    {
      "cell_type": "code",
      "source": [
        "jobs_df = pd.DataFrame(data=jobs_data)\n",
        "jobs_df"
      ],
      "metadata": {
        "colab": {
          "base_uri": "https://localhost:8080/",
          "height": 423
        },
        "id": "1Oh98v5bFl8B",
        "outputId": "909ccb09-77ce-402e-e285-23f891d63008"
      },
      "execution_count": 267,
      "outputs": [
        {
          "output_type": "execute_result",
          "data": {
            "text/plain": [
              "                                             job_title  \\\n",
              "0                     Водитель на седельный тягач С, Е   \n",
              "1                        Водитель с личным автомобилем   \n",
              "2                     Водитель на служебный автомобиль   \n",
              "3                                  Водитель-экспедитор   \n",
              "4                                 Водитель категории В   \n",
              "..                                                 ...   \n",
              "109                      Оператор дробильных установок   \n",
              "110                                Водитель погрузчика   \n",
              "111            Водитель-курьер в ресторан (подработка)   \n",
              "112  Водитель-курьер на личном автомобиле (Delivery...   \n",
              "113                                   Няня-воспитатель   \n",
              "\n",
              "                                     employee  salary_min  salary_max  \\\n",
              "0                                    ООО ПМТК    100000.0         NaN   \n",
              "1                                       i'way    150000.0         NaN   \n",
              "2                 ООО ЛОТТЕ Отель Владивосток     50000.0     50000.0   \n",
              "3                                ООО ОВИТА.ру     90000.0         NaN   \n",
              "4    Глобал HR (ИП Вяткин Максим Анатольевич)     65000.0         NaN   \n",
              "..                                        ...         ...         ...   \n",
              "109                            ООО Океанстрой    120000.0         NaN   \n",
              "110                    Группа компаний Монарх     50000.0         NaN   \n",
              "111                       ООО Департамент Ф53     45000.0         NaN   \n",
              "112                             ProfiMonsters     65000.0     95000.0   \n",
              "113                                ООО Реноме    100000.0         NaN   \n",
              "\n",
              "    salary_currency                                           job_link  \\\n",
              "0              руб.  https://vladivostok.hh.ru/vacancy/68771078?fro...   \n",
              "1              руб.  https://vladivostok.hh.ru/vacancy/69693913?fro...   \n",
              "2              руб.  https://vladivostok.hh.ru/vacancy/69830143?fro...   \n",
              "3              руб.  https://vladivostok.hh.ru/vacancy/69792248?fro...   \n",
              "4              руб.  https://vladivostok.hh.ru/vacancy/69839478?fro...   \n",
              "..              ...                                                ...   \n",
              "109            руб.  https://vladivostok.hh.ru/vacancy/68827099?fro...   \n",
              "110            руб.  https://vladivostok.hh.ru/vacancy/68902976?fro...   \n",
              "111            руб.  https://vladivostok.hh.ru/vacancy/68869626?fro...   \n",
              "112            руб.  https://vladivostok.hh.ru/vacancy/68861320?fro...   \n",
              "113            руб.  https://vladivostok.hh.ru/vacancy/68861471?fro...   \n",
              "\n",
              "                                       source  \n",
              "0    https://vladivostok.hh.ru/search/vacancy  \n",
              "1    https://vladivostok.hh.ru/search/vacancy  \n",
              "2    https://vladivostok.hh.ru/search/vacancy  \n",
              "3    https://vladivostok.hh.ru/search/vacancy  \n",
              "4    https://vladivostok.hh.ru/search/vacancy  \n",
              "..                                        ...  \n",
              "109  https://vladivostok.hh.ru/search/vacancy  \n",
              "110  https://vladivostok.hh.ru/search/vacancy  \n",
              "111  https://vladivostok.hh.ru/search/vacancy  \n",
              "112  https://vladivostok.hh.ru/search/vacancy  \n",
              "113  https://vladivostok.hh.ru/search/vacancy  \n",
              "\n",
              "[114 rows x 7 columns]"
            ],
            "text/html": [
              "\n",
              "  <div id=\"df-cc3d0c14-726c-4193-ae38-c44bee091652\">\n",
              "    <div class=\"colab-df-container\">\n",
              "      <div>\n",
              "<style scoped>\n",
              "    .dataframe tbody tr th:only-of-type {\n",
              "        vertical-align: middle;\n",
              "    }\n",
              "\n",
              "    .dataframe tbody tr th {\n",
              "        vertical-align: top;\n",
              "    }\n",
              "\n",
              "    .dataframe thead th {\n",
              "        text-align: right;\n",
              "    }\n",
              "</style>\n",
              "<table border=\"1\" class=\"dataframe\">\n",
              "  <thead>\n",
              "    <tr style=\"text-align: right;\">\n",
              "      <th></th>\n",
              "      <th>job_title</th>\n",
              "      <th>employee</th>\n",
              "      <th>salary_min</th>\n",
              "      <th>salary_max</th>\n",
              "      <th>salary_currency</th>\n",
              "      <th>job_link</th>\n",
              "      <th>source</th>\n",
              "    </tr>\n",
              "  </thead>\n",
              "  <tbody>\n",
              "    <tr>\n",
              "      <th>0</th>\n",
              "      <td>Водитель на седельный тягач С, Е</td>\n",
              "      <td>ООО ПМТК</td>\n",
              "      <td>100000.0</td>\n",
              "      <td>NaN</td>\n",
              "      <td>руб.</td>\n",
              "      <td>https://vladivostok.hh.ru/vacancy/68771078?fro...</td>\n",
              "      <td>https://vladivostok.hh.ru/search/vacancy</td>\n",
              "    </tr>\n",
              "    <tr>\n",
              "      <th>1</th>\n",
              "      <td>Водитель с личным автомобилем</td>\n",
              "      <td>i'way</td>\n",
              "      <td>150000.0</td>\n",
              "      <td>NaN</td>\n",
              "      <td>руб.</td>\n",
              "      <td>https://vladivostok.hh.ru/vacancy/69693913?fro...</td>\n",
              "      <td>https://vladivostok.hh.ru/search/vacancy</td>\n",
              "    </tr>\n",
              "    <tr>\n",
              "      <th>2</th>\n",
              "      <td>Водитель на служебный автомобиль</td>\n",
              "      <td>ООО ЛОТТЕ Отель Владивосток</td>\n",
              "      <td>50000.0</td>\n",
              "      <td>50000.0</td>\n",
              "      <td>руб.</td>\n",
              "      <td>https://vladivostok.hh.ru/vacancy/69830143?fro...</td>\n",
              "      <td>https://vladivostok.hh.ru/search/vacancy</td>\n",
              "    </tr>\n",
              "    <tr>\n",
              "      <th>3</th>\n",
              "      <td>Водитель-экспедитор</td>\n",
              "      <td>ООО ОВИТА.ру</td>\n",
              "      <td>90000.0</td>\n",
              "      <td>NaN</td>\n",
              "      <td>руб.</td>\n",
              "      <td>https://vladivostok.hh.ru/vacancy/69792248?fro...</td>\n",
              "      <td>https://vladivostok.hh.ru/search/vacancy</td>\n",
              "    </tr>\n",
              "    <tr>\n",
              "      <th>4</th>\n",
              "      <td>Водитель категории В</td>\n",
              "      <td>Глобал HR (ИП Вяткин Максим Анатольевич)</td>\n",
              "      <td>65000.0</td>\n",
              "      <td>NaN</td>\n",
              "      <td>руб.</td>\n",
              "      <td>https://vladivostok.hh.ru/vacancy/69839478?fro...</td>\n",
              "      <td>https://vladivostok.hh.ru/search/vacancy</td>\n",
              "    </tr>\n",
              "    <tr>\n",
              "      <th>...</th>\n",
              "      <td>...</td>\n",
              "      <td>...</td>\n",
              "      <td>...</td>\n",
              "      <td>...</td>\n",
              "      <td>...</td>\n",
              "      <td>...</td>\n",
              "      <td>...</td>\n",
              "    </tr>\n",
              "    <tr>\n",
              "      <th>109</th>\n",
              "      <td>Оператор дробильных установок</td>\n",
              "      <td>ООО Океанстрой</td>\n",
              "      <td>120000.0</td>\n",
              "      <td>NaN</td>\n",
              "      <td>руб.</td>\n",
              "      <td>https://vladivostok.hh.ru/vacancy/68827099?fro...</td>\n",
              "      <td>https://vladivostok.hh.ru/search/vacancy</td>\n",
              "    </tr>\n",
              "    <tr>\n",
              "      <th>110</th>\n",
              "      <td>Водитель погрузчика</td>\n",
              "      <td>Группа компаний Монарх</td>\n",
              "      <td>50000.0</td>\n",
              "      <td>NaN</td>\n",
              "      <td>руб.</td>\n",
              "      <td>https://vladivostok.hh.ru/vacancy/68902976?fro...</td>\n",
              "      <td>https://vladivostok.hh.ru/search/vacancy</td>\n",
              "    </tr>\n",
              "    <tr>\n",
              "      <th>111</th>\n",
              "      <td>Водитель-курьер в ресторан (подработка)</td>\n",
              "      <td>ООО Департамент Ф53</td>\n",
              "      <td>45000.0</td>\n",
              "      <td>NaN</td>\n",
              "      <td>руб.</td>\n",
              "      <td>https://vladivostok.hh.ru/vacancy/68869626?fro...</td>\n",
              "      <td>https://vladivostok.hh.ru/search/vacancy</td>\n",
              "    </tr>\n",
              "    <tr>\n",
              "      <th>112</th>\n",
              "      <td>Водитель-курьер на личном автомобиле (Delivery...</td>\n",
              "      <td>ProfiMonsters</td>\n",
              "      <td>65000.0</td>\n",
              "      <td>95000.0</td>\n",
              "      <td>руб.</td>\n",
              "      <td>https://vladivostok.hh.ru/vacancy/68861320?fro...</td>\n",
              "      <td>https://vladivostok.hh.ru/search/vacancy</td>\n",
              "    </tr>\n",
              "    <tr>\n",
              "      <th>113</th>\n",
              "      <td>Няня-воспитатель</td>\n",
              "      <td>ООО Реноме</td>\n",
              "      <td>100000.0</td>\n",
              "      <td>NaN</td>\n",
              "      <td>руб.</td>\n",
              "      <td>https://vladivostok.hh.ru/vacancy/68861471?fro...</td>\n",
              "      <td>https://vladivostok.hh.ru/search/vacancy</td>\n",
              "    </tr>\n",
              "  </tbody>\n",
              "</table>\n",
              "<p>114 rows × 7 columns</p>\n",
              "</div>\n",
              "      <button class=\"colab-df-convert\" onclick=\"convertToInteractive('df-cc3d0c14-726c-4193-ae38-c44bee091652')\"\n",
              "              title=\"Convert this dataframe to an interactive table.\"\n",
              "              style=\"display:none;\">\n",
              "        \n",
              "  <svg xmlns=\"http://www.w3.org/2000/svg\" height=\"24px\"viewBox=\"0 0 24 24\"\n",
              "       width=\"24px\">\n",
              "    <path d=\"M0 0h24v24H0V0z\" fill=\"none\"/>\n",
              "    <path d=\"M18.56 5.44l.94 2.06.94-2.06 2.06-.94-2.06-.94-.94-2.06-.94 2.06-2.06.94zm-11 1L8.5 8.5l.94-2.06 2.06-.94-2.06-.94L8.5 2.5l-.94 2.06-2.06.94zm10 10l.94 2.06.94-2.06 2.06-.94-2.06-.94-.94-2.06-.94 2.06-2.06.94z\"/><path d=\"M17.41 7.96l-1.37-1.37c-.4-.4-.92-.59-1.43-.59-.52 0-1.04.2-1.43.59L10.3 9.45l-7.72 7.72c-.78.78-.78 2.05 0 2.83L4 21.41c.39.39.9.59 1.41.59.51 0 1.02-.2 1.41-.59l7.78-7.78 2.81-2.81c.8-.78.8-2.07 0-2.86zM5.41 20L4 18.59l7.72-7.72 1.47 1.35L5.41 20z\"/>\n",
              "  </svg>\n",
              "      </button>\n",
              "      \n",
              "  <style>\n",
              "    .colab-df-container {\n",
              "      display:flex;\n",
              "      flex-wrap:wrap;\n",
              "      gap: 12px;\n",
              "    }\n",
              "\n",
              "    .colab-df-convert {\n",
              "      background-color: #E8F0FE;\n",
              "      border: none;\n",
              "      border-radius: 50%;\n",
              "      cursor: pointer;\n",
              "      display: none;\n",
              "      fill: #1967D2;\n",
              "      height: 32px;\n",
              "      padding: 0 0 0 0;\n",
              "      width: 32px;\n",
              "    }\n",
              "\n",
              "    .colab-df-convert:hover {\n",
              "      background-color: #E2EBFA;\n",
              "      box-shadow: 0px 1px 2px rgba(60, 64, 67, 0.3), 0px 1px 3px 1px rgba(60, 64, 67, 0.15);\n",
              "      fill: #174EA6;\n",
              "    }\n",
              "\n",
              "    [theme=dark] .colab-df-convert {\n",
              "      background-color: #3B4455;\n",
              "      fill: #D2E3FC;\n",
              "    }\n",
              "\n",
              "    [theme=dark] .colab-df-convert:hover {\n",
              "      background-color: #434B5C;\n",
              "      box-shadow: 0px 1px 3px 1px rgba(0, 0, 0, 0.15);\n",
              "      filter: drop-shadow(0px 1px 2px rgba(0, 0, 0, 0.3));\n",
              "      fill: #FFFFFF;\n",
              "    }\n",
              "  </style>\n",
              "\n",
              "      <script>\n",
              "        const buttonEl =\n",
              "          document.querySelector('#df-cc3d0c14-726c-4193-ae38-c44bee091652 button.colab-df-convert');\n",
              "        buttonEl.style.display =\n",
              "          google.colab.kernel.accessAllowed ? 'block' : 'none';\n",
              "\n",
              "        async function convertToInteractive(key) {\n",
              "          const element = document.querySelector('#df-cc3d0c14-726c-4193-ae38-c44bee091652');\n",
              "          const dataTable =\n",
              "            await google.colab.kernel.invokeFunction('convertToInteractive',\n",
              "                                                     [key], {});\n",
              "          if (!dataTable) return;\n",
              "\n",
              "          const docLinkHtml = 'Like what you see? Visit the ' +\n",
              "            '<a target=\"_blank\" href=https://colab.research.google.com/notebooks/data_table.ipynb>data table notebook</a>'\n",
              "            + ' to learn more about interactive tables.';\n",
              "          element.innerHTML = '';\n",
              "          dataTable['output_type'] = 'display_data';\n",
              "          await google.colab.output.renderOutput(dataTable, element);\n",
              "          const docLink = document.createElement('div');\n",
              "          docLink.innerHTML = docLinkHtml;\n",
              "          element.appendChild(docLink);\n",
              "        }\n",
              "      </script>\n",
              "    </div>\n",
              "  </div>\n",
              "  "
            ]
          },
          "metadata": {},
          "execution_count": 267
        }
      ]
    },
    {
      "cell_type": "code",
      "source": [
        "jobs_df.to_csv('output.csv')"
      ],
      "metadata": {
        "id": "LtFiev_d76iz"
      },
      "execution_count": 268,
      "outputs": []
    }
  ]
}