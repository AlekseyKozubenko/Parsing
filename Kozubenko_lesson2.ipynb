{
  "nbformat": 4,
  "nbformat_minor": 0,
  "metadata": {
    "colab": {
      "provenance": []
    },
    "kernelspec": {
      "name": "python3",
      "display_name": "Python 3"
    },
    "language_info": {
      "name": "python"
    }
  },
  "cells": [
    {
      "cell_type": "markdown",
      "source": [
        "Козубенко, ДЗ к уроку №2"
      ],
      "metadata": {
        "id": "vvamJB1ep7VE"
      }
    },
    {
      "cell_type": "code",
      "execution_count": 16,
      "metadata": {
        "id": "Br_XDWTZKmcL"
      },
      "outputs": [],
      "source": [
        "from pprint import pprint\n",
        "from lxml import html\n",
        "import requests"
      ]
    },
    {
      "cell_type": "code",
      "source": [
        "url = 'https://lenta.ru/'\n",
        "\n",
        "headers = {\n",
        "    'User-Agent':\t'Mozilla/5.0 (Windows NT 10.0; Win64; x64) AppleWebKit/537.36 (KHTML, like Gecko) Chrome/104.0.0.0 Safari/537.36',\n",
        "}\n",
        "\n",
        "response = requests.get(url, headers=headers)\n"
      ],
      "metadata": {
        "id": "Bk8dhF_qjdJw"
      },
      "execution_count": 17,
      "outputs": []
    },
    {
      "cell_type": "code",
      "source": [
        "dom = html.fromstring(response.text)"
      ],
      "metadata": {
        "id": "DNzmGa-tjvRS"
      },
      "execution_count": 18,
      "outputs": []
    },
    {
      "cell_type": "code",
      "source": [
        "top_news1_name = dom.xpath(\"//div[@class='topnews']//h3/text()\")\n",
        "top_news_other_names = dom.xpath(\"//div[@class='topnews']//span/text()\")\n",
        "news_names = top_news1_name + top_news_other_names\n",
        "links = dom.xpath(\"//div[@class='topnews']//a[contains(@class, '_topnews')]/@href\")\n",
        "times = dom.xpath(\"//div[@class='topnews']//time/text()\")\n",
        "# print(top_news1_name)\n",
        "# print(top_news_other_names)\n",
        "print(len(news_names))\n",
        "print(len(links))\n",
        "print(len(times))"
      ],
      "metadata": {
        "colab": {
          "base_uri": "https://localhost:8080/"
        },
        "id": "1sE3IO1fkTUp",
        "outputId": "57cb37e8-1e73-4daa-88d8-035095b8b2e1"
      },
      "execution_count": 19,
      "outputs": [
        {
          "output_type": "stream",
          "name": "stdout",
          "text": [
            "13\n",
            "13\n",
            "13\n"
          ]
        }
      ]
    },
    {
      "cell_type": "code",
      "source": [
        "news_dict = {}\n",
        "for i in range(len(news_names)):\n",
        "  name = news_names[i]\n",
        "  link = url + links[i]\n",
        "  time = times[i]\n",
        "\n",
        "  news_dict[name] = {\n",
        "      'link': link,\n",
        "      'time': time\n",
        "  }\n",
        "\n",
        "pprint(news_dict)\n",
        "\n",
        "\n"
      ],
      "metadata": {
        "colab": {
          "base_uri": "https://localhost:8080/"
        },
        "id": "DcFHrrwZlADk",
        "outputId": "ab5c96da-d29c-44e6-cecd-056912e37ad3"
      },
      "execution_count": 21,
      "outputs": [
        {
          "output_type": "stream",
          "name": "stdout",
          "text": [
            "{'Rockstar «попрощалась» с GTA V': {'link': 'https://lenta.ru//news/2022/09/06/gta_soon/',\n",
            "                                    'time': '19:35'},\n",
            " 'Бывший резидент Comedy Club высказался о запретных темах в шоу': {'link': 'https://lenta.ru//news/2022/09/06/prohibited/',\n",
            "                                                                    'time': '19:27'},\n",
            " 'В России прокомментировали сообщения о закупке боеприпасов в КНДР': {'link': 'https://lenta.ru//news/2022/09/06/ammunition/',\n",
            "                                                                       'time': '19:01'},\n",
            " 'МАГАТЭ перечислило меры по предотвращению ядерной катастрофы на ЗАЭС': {'link': 'https://lenta.ru//news/2022/09/06/mery/',\n",
            "                                                                          'time': '18:44'},\n",
            " 'Осмотр квартиры хранившего патроны и оружие россиянина попал на видео': {'link': 'https://lenta.ru//news/2022/09/06/osmotrshron/',\n",
            "                                                                           'time': '19:35'},\n",
            " 'Первый город в мире запретит рекламу мяса': {'link': 'https://lenta.ru//news/2022/09/06/haarlem_meat/',\n",
            "                                               'time': '19:42'},\n",
            " 'Пьяная блогерша набила тату в честь подруги и пожалела наутро': {'link': 'https://lenta.ru//news/2022/09/06/pals-name/',\n",
            "                                                                   'time': '19:29'},\n",
            " 'Россиянам станет менее доступен отдых на любимом курорте богачей': {'link': 'https://lenta.ru//news/2022/09/06/maldives_islands/',\n",
            "                                                                      'time': '19:31'},\n",
            " 'США анонсировали испытательный пуск межконтинентальной ракеты': {'link': 'https://lenta.ru//news/2022/09/06/us_raketa/',\n",
            "                                                                   'time': '19:13'},\n",
            " 'США оценили предложение признать Россию страной-спонсором терроризма': {'link': 'https://lenta.ru//news/2022/09/06/us_uneffective/',\n",
            "                                                                          'time': '19:42'},\n",
            " 'Семин ответил на вопрос о готовности вернуться в «Локомотив»': {'link': 'https://lenta.ru//news/2022/09/06/semin/',\n",
            "                                                                  'time': '19:28'},\n",
            " 'Украинский военный назвал адом попытку контрнаступления ВСУ под Херсоном': {'link': 'https://lenta.ru//news/2022/09/06/hell/',\n",
            "                                                                              'time': '18:47'},\n",
            " 'Умер пострадавший при подрыве автомобиля комендант Бердянска': {'link': 'https://lenta.ru//news/2022/09/06/komendnt/',\n",
            "                                                                  'time': '19:40'}}\n"
          ]
        }
      ]
    }
  ]
}