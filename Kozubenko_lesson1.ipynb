{
  "nbformat": 4,
  "nbformat_minor": 0,
  "metadata": {
    "colab": {
      "provenance": [],
      "collapsed_sections": []
    },
    "kernelspec": {
      "name": "python3",
      "display_name": "Python 3"
    },
    "language_info": {
      "name": "python"
    }
  },
  "cells": [
    {
      "cell_type": "markdown",
      "source": [
        "## 1. Посмотреть документацию к API GitHub, разобраться как вывести список репозиториев для конкретного пользователя, сохранить JSON-вывод в файле *.json."
      ],
      "metadata": {
        "id": "imKX51ELpWV_"
      }
    },
    {
      "cell_type": "code",
      "execution_count": 90,
      "metadata": {
        "id": "syyI7PtxnbIg"
      },
      "outputs": [],
      "source": [
        "import json\n",
        "import numpy as np\n",
        "import requests\n",
        "from pprint import pprint"
      ]
    },
    {
      "cell_type": "code",
      "source": [
        "response = requests.get('https://api.github.com/users/AlekseyKozubenko/repos')\n",
        "# pprint(response.json())\n",
        "names = response.json()\n",
        "for name in names:\n",
        "    print(name['name'])\n",
        "\n",
        "# в файл сохраняю полный набор данных, полученные по запросу\n",
        "with open('data.json', 'w') as f:\n",
        "    f.write(json.dumps(response.text))"
      ],
      "metadata": {
        "colab": {
          "base_uri": "https://localhost:8080/"
        },
        "id": "pW8dyszOpjlf",
        "outputId": "f672af6a-b5a7-4541-bc7d-ba9d87b52a3e"
      },
      "execution_count": 91,
      "outputs": [
        {
          "output_type": "stream",
          "name": "stdout",
          "text": [
            "Higher_Mathematics\n",
            "manchenkoff\n",
            "Parsing\n",
            "project\n",
            "Python_for_Data_Science\n",
            "python_gb\n",
            "repo-github\n",
            "repo-gui\n",
            "webpack-bootstrap\n"
          ]
        }
      ]
    },
    {
      "cell_type": "markdown",
      "source": [
        "## 2. Работа будет состоять с недокументированным API. Нужно ввести релевантный запрос на сайте https://www.delivery-club.ru/search\n",
        "(а) из предложенных точек с помощью API найти долю (в %) с бесплатной и платной доставкой. Для каждой категории рассчитать среднюю минимальную стоимость заказа.\n",
        "\n",
        "(б) для каждой из категорий из пункта (а) рассчитать долю (в %) магазинов и ресторанов"
      ],
      "metadata": {
        "id": "Kg2-pzWwpslU"
      }
    },
    {
      "cell_type": "code",
      "execution_count": 92,
      "metadata": {
        "colab": {
          "base_uri": "https://localhost:8080/"
        },
        "id": "4INDL3woni1Y",
        "outputId": "de6fa6ab-fed1-4bec-832f-d6a95c75a903"
      },
      "outputs": [
        {
          "output_type": "stream",
          "name": "stdout",
          "text": [
            "200\n"
          ]
        }
      ],
      "source": [
        "# proxies = {\n",
        "#     'https': '91.197.77.118:443',\n",
        "# }\n",
        "\n",
        "# headers = {\n",
        "#     'user-agent': 'Mozilla/5.0 (X11; Linux x86_64) AppleWebKit/537.36 (KHTML, like Gecko) Chrome/36.0.1985.143 Safari/537.36',\n",
        "# }\n",
        "\n",
        "params = {\n",
        "    'latitude': '55.795808',\n",
        "    'longitude': '49.224417',\n",
        "    'query': 'манты',\n",
        "    'cacheBreaker' : '1662195263'\n",
        "}\n",
        "\n",
        "url = 'https://api.delivery-club.ru/api1.2/vendors/search'\n",
        "\n",
        "response = requests.get(url=url, params=params)\n",
        "\n",
        "print(response.status_code)\n"
      ]
    },
    {
      "cell_type": "code",
      "source": [
        "vendors = response.json()['vendors']\n",
        "# for vendor in vendors:\n",
        "  # print(vendor['name'], vendor['delivery']['price']['value'])\n",
        "\n",
        "count_total = 0\n",
        "count_free = 0\n",
        "order_price_free = []\n",
        "order_price_not_free = []\n",
        "shops_free = 0\n",
        "resto_free = 0\n",
        "shops_not_free = 0\n",
        "resto_not_free = 0\n",
        "\n",
        "\n",
        "\n",
        "for vendor in vendors:\n",
        "  count_total += 1\n",
        "  if int(vendor['delivery']['price']['value']) == 0:\n",
        "    count_free += 1\n",
        "    if int(vendor['categoryId']) == 1:\n",
        "      resto_free += 1\n",
        "    else:\n",
        "      shops_free += 1\n",
        "    order_price_free.append(int(vendor['delivery']['minOrderPrice']['value']))\n",
        "  else:\n",
        "    if int(vendor['categoryId']) == 1:\n",
        "      resto_not_free += 1\n",
        "    else:\n",
        "      shops_not_free += 1\n",
        "    order_price_not_free.append(int(vendor['delivery']['minOrderPrice']['value']))\n",
        "\n",
        "# print(order_price_free)\n",
        "# print(order_price_not_free)\n",
        "\n",
        "part_free = str(round(count_free*100/count_total, 2))+'%'\n",
        "part_not_free = str(round((count_total-count_free)*100/count_total, 2))+'%'\n",
        "# print(part_free)\n",
        "part_resto_free = str(round(resto_free*100/count_free, 2))+'%'\n",
        "part_shops_free = str(round(shops_free*100/count_free, 2))+'%'\n",
        "\n",
        "part_resto_not_free = str(round(resto_not_free*100/(count_total-count_free), 2))+'%'\n",
        "part_shops_not_free = str(round(shops_not_free*100/(count_total-count_free), 2))+'%'\n",
        "\n",
        "# print(part_shops_free)\n",
        "\n",
        "result = {'Бесплатная доставка': \n",
        "          {'Доля продавцов': part_free, \n",
        "           'Средняя стоимость заказа': np.around(np.mean(order_price_free),2), \n",
        "           'Минимальная стоимость заказа': np.amin(order_price_free),\n",
        "           'Тип продавца':\n",
        "              {'Магазины': part_shops_free, \n",
        "              'Рестораны': part_resto_free}}, \n",
        "          'Платная доставка': \n",
        "          {'Доля продавцов': part_not_free, \n",
        "           'Средняя стоимость заказа': np.around(np.mean(order_price_not_free),2), \n",
        "           'Минимальная стоимость заказа': np.amin(order_price_not_free),\n",
        "           'Тип продавца': \n",
        "               {'Магазины': part_shops_not_free, \n",
        "                'Рестораны': part_resto_not_free}}\n",
        "}\n",
        "pprint(result)"
      ],
      "metadata": {
        "colab": {
          "base_uri": "https://localhost:8080/"
        },
        "id": "gBNnRqIBJ3RN",
        "outputId": "51a3f57d-649c-4bb0-8e5c-f6e04a51cbcd"
      },
      "execution_count": 96,
      "outputs": [
        {
          "output_type": "stream",
          "name": "stdout",
          "text": [
            "{'Бесплатная доставка': {'Доля продавцов': '57.69%',\n",
            "                         'Минимальная стоимость заказа': 290,\n",
            "                         'Средняя стоимость заказа': 982.67,\n",
            "                         'Тип продавца': {'Магазины': '20.0%',\n",
            "                                          'Рестораны': '80.0%'}},\n",
            " 'Платная доставка': {'Доля продавцов': '42.31%',\n",
            "                      'Минимальная стоимость заказа': 1,\n",
            "                      'Средняя стоимость заказа': 91.82,\n",
            "                      'Тип продавца': {'Магазины': '18.18%',\n",
            "                                       'Рестораны': '81.82%'}}}\n"
          ]
        }
      ]
    },
    {
      "cell_type": "code",
      "source": [
        "# for vendor in vendors:\n",
        "#   print(vendor['name'], vendor['delivery']['minOrderPrice']['value'], vendor['delivery']['price']['value'], vendor['categoryId']) "
      ],
      "metadata": {
        "id": "YuYc-aXKMyZ6"
      },
      "execution_count": 94,
      "outputs": []
    },
    {
      "cell_type": "code",
      "source": [
        "# pprint(response.json())"
      ],
      "metadata": {
        "id": "IeUqU3hgG0QZ"
      },
      "execution_count": 95,
      "outputs": []
    }
  ]
}